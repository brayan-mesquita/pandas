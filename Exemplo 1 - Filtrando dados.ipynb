{
 "cells": [
  {
   "cell_type": "code",
   "execution_count": 1,
   "metadata": {},
   "outputs": [],
   "source": [
    "import pandas as pd"
   ]
  },
  {
   "cell_type": "code",
   "execution_count": 2,
   "metadata": {},
   "outputs": [],
   "source": [
    "d = {'id': [1, 2, 3, 3, 2, 1], \n",
    "    'name': ['jose', 'pedro', 'maria', 'maria', 'pedro', 'jose']}"
   ]
  },
  {
   "cell_type": "code",
   "execution_count": 5,
   "metadata": {},
   "outputs": [
    {
     "name": "stdout",
     "output_type": "stream",
     "text": [
      "   id   name\n",
      "0   1   jose\n",
      "1   2  pedro\n",
      "2   3  maria\n",
      "3   3  maria\n",
      "4   2  pedro\n",
      "5   1   jose\n"
     ]
    }
   ],
   "source": [
    "dfa = pd.DataFrame(data=d)\n",
    "print(dfa)"
   ]
  },
  {
   "cell_type": "code",
   "execution_count": 9,
   "metadata": {},
   "outputs": [
    {
     "name": "stdout",
     "output_type": "stream",
     "text": [
      "0    False\n",
      "1     True\n",
      "2     True\n",
      "3     True\n",
      "4     True\n",
      "5    False\n",
      "Name: id, dtype: bool\n"
     ]
    }
   ],
   "source": [
    "ids = [2, 3]\n",
    "print(dfa['id'].isin(ids))"
   ]
  },
  {
   "cell_type": "code",
   "execution_count": 10,
   "metadata": {},
   "outputs": [
    {
     "name": "stdout",
     "output_type": "stream",
     "text": [
      "   id   name\n",
      "1   2  pedro\n",
      "2   3  maria\n",
      "3   3  maria\n",
      "4   2  pedro\n"
     ]
    }
   ],
   "source": [
    "dfb = dfa[dfa['id'].isin(ids)]\n",
    "print(dfb)"
   ]
  },
  {
   "cell_type": "code",
   "execution_count": 13,
   "metadata": {},
   "outputs": [
    {
     "name": "stdout",
     "output_type": "stream",
     "text": [
      "   id   name\n",
      "1   2  pedro\n",
      "2   3  maria\n"
     ]
    }
   ],
   "source": [
    "#remover registros duplicados\n",
    "dfb = dfb.drop_duplicates()\n",
    "print(dfb)"
   ]
  }
 ],
 "metadata": {
  "kernelspec": {
   "display_name": "Python 3",
   "language": "python",
   "name": "python3"
  },
  "language_info": {
   "codemirror_mode": {
    "name": "ipython",
    "version": 3
   },
   "file_extension": ".py",
   "mimetype": "text/x-python",
   "name": "python",
   "nbconvert_exporter": "python",
   "pygments_lexer": "ipython3",
   "version": "3.8.3"
  }
 },
 "nbformat": 4,
 "nbformat_minor": 4
}
