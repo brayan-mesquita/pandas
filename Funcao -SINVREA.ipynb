{
 "cells": [
  {
   "cell_type": "code",
   "execution_count": 1,
   "metadata": {},
   "outputs": [],
   "source": [
    "import pandas as pd"
   ]
  },
  {
   "cell_type": "code",
   "execution_count": 2,
   "metadata": {},
   "outputs": [],
   "source": [
    "df = pd.read_csv('sinvrea.csv', header=0)"
   ]
  },
  {
   "cell_type": "code",
   "execution_count": null,
   "metadata": {},
   "outputs": [],
   "source": [
    "df"
   ]
  },
  {
   "cell_type": "code",
   "execution_count": 3,
   "metadata": {},
   "outputs": [],
   "source": [
    "Departamentos = df['DEPARTAMENTO'].drop_duplicates()"
   ]
  },
  {
   "cell_type": "code",
   "execution_count": 4,
   "metadata": {},
   "outputs": [
    {
     "data": {
      "text/plain": [
       "0              DELEGACIA DA MULHER - PC -\\nGUAJARÁ-MIRIM\n",
       "1               DELEGACIA REGIONAL - PC -\\nGUAJARÁ-MIRIM\n",
       "2                   DELEGACIA DE POLÍCIA - PC -\\nEXTREMA\n",
       "4                               DEI- DRACO - PORTO VELHO\n",
       "5                              JARU - DELEGACIA REGIONAL\n",
       "6                                       JI-PARANÁ - DEAM\n",
       "8             SERINGUEIRAS - DELEGACIA DE\\nPOLÍCIA CIVIL\n",
       "10              SÃO MIGUEL - DELEGACIA DE\\nPOLÍCIA CIVIL\n",
       "12           SÃO FRANCISCO - DELEGACIA DE\\nPOLÍCIA CIVIL\n",
       "13       PRESIDENTE MÉDICI - DELEGACIA\\nDE POLÍCIA CIVIL\n",
       "15         CACOAL - DELEGACIA REGIONAL DE\\nPOLÍCIA CIVIL\n",
       "16                                         CACOAL - DEAM\n",
       "18     SÃO MIGUEL - DELEGACIA REGIONAL\\nDE POLÍCIA CIVIL\n",
       "21                                          DEPARTAMENTO\n",
       "22     PIMENTA BUENO - DELEGACIA\\nREGIONAL DE POLÍCIA...\n",
       "32           DEL. ASSUNTOS PENITENCIÁRIOS -\\nPORTO VELHO\n",
       "33     ROLIM DE MOURA - DELEGACIA\\nREGIONAL DE POLÍCI...\n",
       "37           DELEGACIA DE FURTOS E ROUBOS -\\nPORTO VELHO\n",
       "40     DELEGACIA ESPECIALIZADA EM\\nREPRESSÃO AOS CONF...\n",
       "41                     CENTRAL DE POLÍCIA - PORTO\\nVELHO\n",
       "44                                   DEAAI - PORTO VELHO\n",
       "58                         DÉCIMA DELEGACIA - NOVA MUTUM\n",
       "67                        DEDT - DELEGACIA - PORTO VELHO\n",
       "68                DELEGACIA DE HOMICÍDIOS - PORTO\\nVELHO\n",
       "73                                 DERCCMA - PORTO VELHO\n",
       "74            COSTA MARQUES - DELEGACIA DE POLÍCIA CIVIL\n",
       "76                                  DENARC - PORTO VELHO\n",
       "80             SANTA LUZIA - DELEGACIA DE\\nPOLÍCIA CIVIL\n",
       "83              VILHENA - DEAM E DEL. DO MENOR\\nINFRATOR\n",
       "84                      CORREGEDORIA (PC) - PORTO\\nVELHO\n",
       "91                                  DELEGACIA DE BURITIS\n",
       "95                    DELEGACIA DA MULHER - PORTO\\nVELHO\n",
       "101                          DENARC - PC - GUAJARÁ-MIRIM\n",
       "110                                 PORTO VELHO - DECCON\n",
       "115         2a DELEGACIA DE POLÍCIA CIVIL -\\nPORTO VELHO\n",
       "116             CEREJEIRAS - DELEGACIA DE\\nPOLÍCIA CIVIL\n",
       "135                 JI-PARANÁ - DELEGACIA DE\\nHOMICÍDIOS\n",
       "138          ALTA FLORESTA - DELEGACIA DE\\nPOLÍCIA CIVIL\n",
       "147       MIRANTE DA SERRA - DELEGACIA DE\\nPOLÍCIA CIVIL\n",
       "148                                ROLIM DE MOURA - DEAM\n",
       "189                                 GRUMAP - PORTO VELHO\n",
       "191                       DELEGACIA DE CRIMES FUNCIONAIS\n",
       "193                         DELEGACIA GERAL - PC RO- PVH\n",
       "215    DELEGACIA DE CRIMES CONTRA O\\nPATRIMÔNIO - POR...\n",
       "239                                   DPCA - PORTO VELHO\n",
       "245                                               DINTEL\n",
       "251                ACADEMIA DE POLÍCIA CIVIL -\\nACADEPOL\n",
       "265               DELEGACIA DE POLÍCIA CIVIL -\\nCANDEIAS\n",
       "272              ARQUIVO DA POLÍCIA CIVIL - PORTO\\nVELHO\n",
       "844                                       CACOAL - DRACO\n",
       "Name: DEPARTAMENTO, dtype: object"
      ]
     },
     "execution_count": 4,
     "metadata": {},
     "output_type": "execute_result"
    }
   ],
   "source": [
    "Departamentos.head(50)"
   ]
  },
  {
   "cell_type": "code",
   "execution_count": 5,
   "metadata": {},
   "outputs": [],
   "source": [
    "def toexcel(departamento):\n",
    "    colunas = ['DEPARTAMENTO', 'SETOR', 'TOMBAMENTO', 'DESCRIÇÃO DO BEM']\n",
    "    filter = df.loc[(df['DEPARTAMENTO']==departamento), colunas]\n",
    "    novas_colunas = ['Localizado', 'Responsável']\n",
    "    for colunas in novas_colunas:\n",
    "        filter[colunas] = '-'\n",
    "    filter.to_excel(f'sinvrea/{departamento}.xlsx',  index = False, header=True)"
   ]
  },
  {
   "cell_type": "code",
   "execution_count": 67,
   "metadata": {},
   "outputs": [],
   "source": [
    "toexcel('COSTA MARQUES - DELEGACIA DE POLÍCIA CIVIL')"
   ]
  },
  {
   "cell_type": "code",
   "execution_count": 7,
   "metadata": {},
   "outputs": [],
   "source": [
    "for x in Departamentos:\n",
    "    toexcel(x)"
   ]
  },
  {
   "cell_type": "code",
   "execution_count": 98,
   "metadata": {},
   "outputs": [],
   "source": []
  },
  {
   "cell_type": "code",
   "execution_count": null,
   "metadata": {},
   "outputs": [],
   "source": []
  },
  {
   "cell_type": "code",
   "execution_count": null,
   "metadata": {},
   "outputs": [],
   "source": []
  }
 ],
 "metadata": {
  "kernelspec": {
   "display_name": "Python 3",
   "language": "python",
   "name": "python3"
  },
  "language_info": {
   "codemirror_mode": {
    "name": "ipython",
    "version": 3
   },
   "file_extension": ".py",
   "mimetype": "text/x-python",
   "name": "python",
   "nbconvert_exporter": "python",
   "pygments_lexer": "ipython3",
   "version": "3.7.6"
  }
 },
 "nbformat": 4,
 "nbformat_minor": 4
}
