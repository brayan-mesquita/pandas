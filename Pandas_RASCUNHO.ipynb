{
  "nbformat": 4,
  "nbformat_minor": 0,
  "metadata": {
    "colab": {
      "provenance": [],
      "authorship_tag": "ABX9TyMOT0QwEZWRS91eQOZanoeh",
      "include_colab_link": true
    },
    "kernelspec": {
      "name": "python3",
      "display_name": "Python 3"
    },
    "language_info": {
      "name": "python"
    }
  },
  "cells": [
    {
      "cell_type": "markdown",
      "metadata": {
        "id": "view-in-github",
        "colab_type": "text"
      },
      "source": [
        "<a href=\"https://colab.research.google.com/github/brayan-mesquita/pandas/blob/main/Pandas_RASCUNHO.ipynb\" target=\"_parent\"><img src=\"https://colab.research.google.com/assets/colab-badge.svg\" alt=\"Open In Colab\"/></a>"
      ]
    },
    {
      "cell_type": "code",
      "source": [
        "!pip install pandasai"
      ],
      "metadata": {
        "id": "a-gEee8VWApa"
      },
      "execution_count": null,
      "outputs": []
    },
    {
      "cell_type": "code",
      "execution_count": null,
      "metadata": {
        "id": "CKkE8UWdVq2r"
      },
      "outputs": [],
      "source": [
        "import pandas as pd\n",
        "from pandasai import PandasAI\n",
        "from pandasai.llm.openai import OpenAI\n",
        "\n",
        "df = pd.read_csv(\"https://raw.githubusercontent.com/ifrankandrade/pandasai-tutorial/main/supermarket_sales.csv\")\n",
        "df = df[['Gender', 'Product line', 'Total']]\n",
        "\n",
        "OPENAI_API_KEY = \"\"\n",
        "llm = OpenAI(api_token=OPENAI_API_KEY)\n",
        "\n",
        "pandas_ai = PandasAI(llm)"
      ]
    },
    {
      "cell_type": "code",
      "source": [
        "df.columns"
      ],
      "metadata": {
        "colab": {
          "base_uri": "https://localhost:8080/"
        },
        "id": "LO0RXAM2WOF0",
        "outputId": "6a624d38-33a6-4d7a-d766-b567cf4c2eb8"
      },
      "execution_count": 15,
      "outputs": [
        {
          "output_type": "execute_result",
          "data": {
            "text/plain": [
              "Index(['Gender', 'Product line', 'Total'], dtype='object')"
            ]
          },
          "metadata": {},
          "execution_count": 15
        }
      ]
    },
    {
      "cell_type": "code",
      "source": [
        "total_por_genero = df.groupby('Gender')['Total'].sum()\n"
      ],
      "metadata": {
        "id": "eoHvRAv1WqZi"
      },
      "execution_count": 21,
      "outputs": []
    },
    {
      "cell_type": "code",
      "source": [
        "import pandas as pd\n",
        "import matplotlib.pyplot as plt\n",
        "\n",
        "# Cria o DataFrame\n",
        "df = pd.DataFrame({\n",
        "    'Gender': ['Female', 'Male', 'Male', 'Female', 'Female', 'Male'],\n",
        "    'Product line': ['Cosmetics', 'Fashion', 'Fashion', 'Sports', 'Cosmetics', 'Sports'],\n",
        "    'Total': [139.43, 56.62, 25.55, 81.91, 135.74, 200.00]\n",
        "})\n",
        "\n",
        "# Agrupa os valores por gênero e soma os totais\n",
        "total_por_genero = df.groupby('Gender')['Total'].sum()\n",
        "\n",
        "# Cria o gráfico de barras\n",
        "plt.bar(total_por_genero.index, total_por_genero.values)\n",
        "plt.title('Gastos por gênero')\n",
        "plt.xlabel('Gênero')\n",
        "plt.ylabel('Total gasto (em dólares)')\n",
        "plt.show()\n"
      ],
      "metadata": {
        "colab": {
          "base_uri": "https://localhost:8080/",
          "height": 472
        },
        "id": "wMIn3li4W02k",
        "outputId": "5a89a335-ba97-4840-c76f-5e32743a4fbe"
      },
      "execution_count": 20,
      "outputs": [
        {
          "output_type": "display_data",
          "data": {
            "text/plain": [
              "<Figure size 640x480 with 1 Axes>"
            ],
            "image/png": "[encoded data removed]"
          },
          "metadata": {}
        }
      ]
    },
    {
      "cell_type": "code",
      "source": [
        "import dash\n",
        "import dash_core_components as dcc\n",
        "import dash_html_components as html\n",
        "import pandas as pd\n",
        "\n",
        "# Carrega dados de exemplo\n",
        "df = pd.read_csv('https://raw.githubusercontent.com/plotly/datasets/master/gapminderDataFiveYear.csv')\n",
        "\n",
        "# Criar instância do servidor da Dash\n",
        "app = dash.Dash(__name__)\n",
        "\n",
        "# Definir layout do dashboard\n",
        "app.layout = html.Div([\n",
        "    dcc.Graph( # Gráfico de dispersão dos dados\n",
        "        id='scatter-plot',\n",
        "        figure={\n",
        "            'data': [\n",
        "                {'x': df[df['year']==year]['gdpPercap'], 'y': df[df['year']==year]['lifeExp'], 'text': df[df['year']==year]['country'], 'mode': 'markers', 'name': year} for year in df['year'].unique()\n",
        "            ],\n",
        "            'layout': {\n",
        "                'title': 'Expectativa de vida vs PIB per capita por país',\n",
        "                'xaxis': {'title': 'PIB per capita'},\n",
        "                'yaxis': {'title': 'Expectativa de vida'},\n",
        "                'hovermode': 'closest'\n",
        "            }\n",
        "        }\n",
        "    )\n",
        "])\n",
        "\n",
        "if __name__ == '__main__':\n",
        "    app.run_server(debug=True)\n"
      ],
      "metadata": {
        "colab": {
          "base_uri": "https://localhost:8080/",
          "height": 391
        },
        "id": "67O_BqO0Y60R",
        "outputId": "da051862-7577-41bb-e7be-948045a2d335"
      },
      "execution_count": 23,
      "outputs": [
        {
          "output_type": "error",
          "ename": "ModuleNotFoundError",
          "evalue": "ignored",
          "traceback": [
            "\u001b[0;31m---------------------------------------------------------------------------\u001b[0m",
            "\u001b[0;31mModuleNotFoundError\u001b[0m                       Traceback (most recent call last)",
            "\u001b[0;32m<ipython-input-23-10bfe7bb207b>\u001b[0m in \u001b[0;36m<cell line: 1>\u001b[0;34m()\u001b[0m\n\u001b[0;32m----> 1\u001b[0;31m \u001b[0;32mimport\u001b[0m \u001b[0mdash\u001b[0m\u001b[0;34m\u001b[0m\u001b[0;34m\u001b[0m\u001b[0m\n\u001b[0m\u001b[1;32m      2\u001b[0m \u001b[0;32mimport\u001b[0m \u001b[0mdash_core_components\u001b[0m \u001b[0;32mas\u001b[0m \u001b[0mdcc\u001b[0m\u001b[0;34m\u001b[0m\u001b[0;34m\u001b[0m\u001b[0m\n\u001b[1;32m      3\u001b[0m \u001b[0;32mimport\u001b[0m \u001b[0mdash_html_components\u001b[0m \u001b[0;32mas\u001b[0m \u001b[0mhtml\u001b[0m\u001b[0;34m\u001b[0m\u001b[0;34m\u001b[0m\u001b[0m\n\u001b[1;32m      4\u001b[0m \u001b[0;32mimport\u001b[0m \u001b[0mpandas\u001b[0m \u001b[0;32mas\u001b[0m \u001b[0mpd\u001b[0m\u001b[0;34m\u001b[0m\u001b[0;34m\u001b[0m\u001b[0m\n\u001b[1;32m      5\u001b[0m \u001b[0;34m\u001b[0m\u001b[0m\n",
            "\u001b[0;31mModuleNotFoundError\u001b[0m: No module named 'dash'",
            "",
            "\u001b[0;31m---------------------------------------------------------------------------\u001b[0;32m\nNOTE: If your import is failing due to a missing package, you can\nmanually install dependencies using either !pip or !apt.\n\nTo view examples of installing some common dependencies, click the\n\"Open Examples\" button below.\n\u001b[0;31m---------------------------------------------------------------------------\u001b[0m\n"
          ],
          "errorDetails": {
            "actions": [
              {
                "action": "open_url",
                "actionText": "Open Examples",
                "url": "/notebooks/snippets/importing_libraries.ipynb"
              }
            ]
          }
        }
      ]
    }
  ]
}