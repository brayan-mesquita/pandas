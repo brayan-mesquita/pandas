{
 "cells": [
  {
   "cell_type": "code",
   "execution_count": 1,
   "metadata": {},
   "outputs": [],
   "source": [
    "import pandas as pd"
   ]
  },
  {
   "cell_type": "code",
   "execution_count": 2,
   "metadata": {},
   "outputs": [],
   "source": [
    "df = pd.read_excel('benssesdec.xlsx')"
   ]
  },
  {
   "cell_type": "code",
   "execution_count": 3,
   "metadata": {},
   "outputs": [
    {
     "data": {
      "text/plain": [
       "(11764, 19)"
      ]
     },
     "execution_count": 3,
     "metadata": {},
     "output_type": "execute_result"
    }
   ],
   "source": [
    "df.shape"
   ]
  },
  {
   "cell_type": "code",
   "execution_count": 4,
   "metadata": {},
   "outputs": [],
   "source": [
    "Departamentos = df['Departamento'].drop_duplicates()"
   ]
  },
  {
   "cell_type": "code",
   "execution_count": 6,
   "metadata": {
    "scrolled": true
   },
   "outputs": [
    {
     "data": {
      "text/plain": [
       "0                                                    NaN\n",
       "1                                       PVH- UNISP LESTE\n",
       "2                                ALVORADA D'OESTE- UNISP\n",
       "3                                      JI- PARANA- UNISP\n",
       "17                                     MACHADINHO- UNISP\n",
       "27                                     OURO PRETO- UNISP\n",
       "36                                     PVH- UNISP CENTRO\n",
       "55                                 ROLIM DE MOURA- UNISP\n",
       "65                                    PVH- UNISP GUAPORÉ\n",
       "66     PORTO VELHO- INSTITUTO DE IDENTIFICAÇAO CIVIL ...\n",
       "72             D. DE EXTREMA- DELEGACIA DE POLICIA CIVIL\n",
       "73     ROLIM DE MOURA- DELEGACIA REGIONAL DE POLICIA ...\n",
       "74                                      JI- PARANA- DEAM\n",
       "75                  PORTO VELHO- DELEGACIA DO PATRIMONIO\n",
       "79                SÃO MIGUEL- DELEGACIA DE POLICIA CIVIL\n",
       "80     GUAJARA MIRIM- DELEGACIA REGIONAL DE POLICIA C...\n",
       "81             PORTO VELHO- DELEGACIA DE FURTOS E ROUBOS\n",
       "83                                   PORTO VELHO- DINTEL\n",
       "84         PRESIDENTE MEDICI- DELEGACIA DE POLICIA CIVIL\n",
       "85       SÃO MIGUEL- DELEGACIA REGIONAL DE POLICIA CIVIL\n",
       "88                          PVH- DELEGACIA DE HOMICIDIOS\n",
       "89                              PORTO VELHO- DEI-  DRACO\n",
       "99                     PORTO VELHO - DELEGACIA DA MULHER\n",
       "105                                   PORTO VELHO - DPCA\n",
       "107                                   PORTO VELHO- DEAAI\n",
       "108                                         CACOAL- DEAM\n",
       "109          CACOAL- DELEGACIA REGIONAL DE POLICIA CIVIL\n",
       "112               CEREJEIRAS- DELEGACIA DE POLICIA CIVIL\n",
       "120                  JI- PARANA- DELEGACIA DE HOMICIDIOS\n",
       "123             MINISTRO ANDREAZA- POLICIA CIVIL (UNISP)\n",
       "126         MIRANTE DA SERRA- DELEGACIA DE POLICIA CIVIL\n",
       "129    PIMENTA BUENO- DELEGACIA REGIONAL DE POLICIA C...\n",
       "130                        PORTO VELHO - CORREGEDORIA PC\n",
       "138                                PORTO VELHO- ACADEPOL\n",
       "141                                 PORTO VELHO- DERCCMA\n",
       "150            SÃO FRANCISCO- DELEGACIA DE POLICIA CIVIL\n",
       "151             SERINGUEIRAS- DELEGACIA DE POLICIA CIVIL\n",
       "152                                 URUPA- POLICIA CIVIL\n",
       "154               VILHENA- DEAM E DEL. DO MENOR INFRATOR\n",
       "157                                 ROLIM DE MOURA- DEAM\n",
       "164                              GUAJARA MIRIM- DEAM- PC\n",
       "166                             JARU- DELEGACIA REGIONAL\n",
       "170                                          JARU- UNISP\n",
       "171      JI- PARANA- CORREGEDORIA E IML DA POLICIA CIVIL\n",
       "180                                       VILHENA- UNISP\n",
       "184                                  PORTO VELHO- GRUMAP\n",
       "186            ALTA FLORESTA- DELEGACIA DE POLICIA CIVIL\n",
       "191                                  PORTO VELHO- DENARC\n",
       "199              SANTA LUZIA- DELEGACIA DE POLICIA CIVIL\n",
       "203                                   PORTO VELHO- DERCA\n",
       "Name: Departamento, dtype: object"
      ]
     },
     "execution_count": 6,
     "metadata": {},
     "output_type": "execute_result"
    }
   ],
   "source": [
    "Departamentos.head(50)"
   ]
  },
  {
   "cell_type": "code",
   "execution_count": 11,
   "metadata": {},
   "outputs": [
    {
     "data": {
      "text/plain": [
       "0                                                     NaN\n",
       "1                                        PVH- UNISP LESTE\n",
       "2                                 ALVORADA D'OESTE- UNISP\n",
       "3                                       JI- PARANA- UNISP\n",
       "17                                      MACHADINHO- UNISP\n",
       "                              ...                        \n",
       "501                                      ARIQUEMES- UNISP\n",
       "612                NOVA MUTUM- DELEGACIA DE POLICIA CIVIL\n",
       "1439                                        CACOAL- DRACO\n",
       "1440    CACOAL- INSTITUTO DE INDENTIFICAÇÃO CIVIL E CR...\n",
       "7942     PORTO VELHO- BASE DA POLICIA MILITAR- RODOVIARIA\n",
       "Name: Departamento, Length: 64, dtype: object"
      ]
     },
     "execution_count": 11,
     "metadata": {},
     "output_type": "execute_result"
    }
   ],
   "source": [
    "Departamentos"
   ]
  },
  {
   "cell_type": "code",
   "execution_count": 5,
   "metadata": {},
   "outputs": [],
   "source": [
    "def toexcel(departamento):\n",
    "    colunas = ['Departamento', 'Descrição', 'Tombo', 'SETOR']\n",
    "    filter = df.loc[(df['Departamento']==departamento), colunas]\n",
    "    novas_colunas = ['Localizado', 'Responsável']\n",
    "    for colunas in novas_colunas:\n",
    "        filter[colunas] = '-'\n",
    "    filter.to_excel(f'sesdec/{departamento}.xlsx',  index = False, header=True)"
   ]
  },
  {
   "cell_type": "code",
   "execution_count": 20,
   "metadata": {},
   "outputs": [],
   "source": [
    "toexcel('ARIQUEMES- UNISP')"
   ]
  },
  {
   "cell_type": "code",
   "execution_count": 6,
   "metadata": {},
   "outputs": [],
   "source": [
    "for x in Departamentos:\n",
    "    toexcel(x)"
   ]
  },
  {
   "cell_type": "code",
   "execution_count": 24,
   "metadata": {},
   "outputs": [],
   "source": []
  },
  {
   "cell_type": "code",
   "execution_count": 98,
   "metadata": {},
   "outputs": [],
   "source": []
  },
  {
   "cell_type": "code",
   "execution_count": null,
   "metadata": {},
   "outputs": [],
   "source": []
  },
  {
   "cell_type": "code",
   "execution_count": null,
   "metadata": {},
   "outputs": [],
   "source": []
  }
 ],
 "metadata": {
  "kernelspec": {
   "display_name": "Python 3",
   "language": "python",
   "name": "python3"
  },
  "language_info": {
   "codemirror_mode": {
    "name": "ipython",
    "version": 3
   },
   "file_extension": ".py",
   "mimetype": "text/x-python",
   "name": "python",
   "nbconvert_exporter": "python",
   "pygments_lexer": "ipython3",
   "version": "3.7.6"
  }
 },
 "nbformat": 4,
 "nbformat_minor": 4
}
