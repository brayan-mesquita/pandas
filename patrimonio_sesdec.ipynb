{
 "cells": [
  {
   "cell_type": "code",
   "execution_count": 2,
   "metadata": {},
   "outputs": [],
   "source": [
    "import pandas as pd"
   ]
  },
  {
   "cell_type": "code",
   "execution_count": 57,
   "metadata": {},
   "outputs": [],
   "source": [
    "df = pd.read_excel('dados/benssesdec.xlsx')"
   ]
  },
  {
   "cell_type": "code",
   "execution_count": 58,
   "metadata": {},
   "outputs": [
    {
     "data": {
      "text/plain": [
       "(11881, 20)"
      ]
     },
     "execution_count": 58,
     "metadata": {},
     "output_type": "execute_result"
    }
   ],
   "source": [
    "df.shape"
   ]
  },
  {
   "cell_type": "code",
   "execution_count": 56,
   "metadata": {},
   "outputs": [
    {
     "data": {
      "text/html": [
       "<div>\n",
       "<style scoped>\n",
       "    .dataframe tbody tr th:only-of-type {\n",
       "        vertical-align: middle;\n",
       "    }\n",
       "\n",
       "    .dataframe tbody tr th {\n",
       "        vertical-align: top;\n",
       "    }\n",
       "\n",
       "    .dataframe thead th {\n",
       "        text-align: right;\n",
       "    }\n",
       "</style>\n",
       "<table border=\"1\" class=\"dataframe\">\n",
       "  <thead>\n",
       "    <tr style=\"text-align: right;\">\n",
       "      <th></th>\n",
       "      <th>Item</th>\n",
       "      <th>Sim-Plaqueta</th>\n",
       "      <th>Não-Plaqueta</th>\n",
       "      <th>Tombo</th>\n",
       "      <th>Descrição</th>\n",
       "      <th>Nº DE SÉRIE</th>\n",
       "      <th>Unidade</th>\n",
       "      <th>Departamento</th>\n",
       "      <th>SALA</th>\n",
       "      <th>LOCALIZADO</th>\n",
       "      <th>Estado de Conservação</th>\n",
       "      <th>Unnamed: 11</th>\n",
       "      <th>Unnamed: 12</th>\n",
       "      <th>Unnamed: 13</th>\n",
       "      <th>Classificação</th>\n",
       "      <th>Unnamed: 15</th>\n",
       "      <th>Unnamed: 16</th>\n",
       "      <th>Unnamed: 17</th>\n",
       "      <th>Unnamed: 18</th>\n",
       "      <th>Unnamed: 19</th>\n",
       "    </tr>\n",
       "  </thead>\n",
       "  <tbody>\n",
       "    <tr>\n",
       "      <th>0</th>\n",
       "      <td>1121</td>\n",
       "      <td>X</td>\n",
       "      <td>NaN</td>\n",
       "      <td>47158</td>\n",
       "      <td>AR CONDICIONADO 12.000 BTUS (CONDENSADORA)ELET...</td>\n",
       "      <td>302AZPV80864</td>\n",
       "      <td>ALTA FLORESTA- DELEGACIA DE POLICIA CIVIL</td>\n",
       "      <td>ADMINISTRAÇÃO</td>\n",
       "      <td>NaN</td>\n",
       "      <td>NaN</td>\n",
       "      <td>NaN</td>\n",
       "      <td>NaN</td>\n",
       "      <td>NaN</td>\n",
       "      <td>X</td>\n",
       "      <td>NaN</td>\n",
       "      <td>X</td>\n",
       "      <td>NaN</td>\n",
       "      <td>NaN</td>\n",
       "      <td>X</td>\n",
       "      <td>NaN</td>\n",
       "    </tr>\n",
       "    <tr>\n",
       "      <th>1</th>\n",
       "      <td>2689</td>\n",
       "      <td>X</td>\n",
       "      <td>NaN</td>\n",
       "      <td>40653</td>\n",
       "      <td>ARMARIO/ARTILINE/</td>\n",
       "      <td>000000</td>\n",
       "      <td>ALTA FLORESTA- DELEGACIA DE POLICIA CIVIL</td>\n",
       "      <td>ADMINISTRAÇÃO</td>\n",
       "      <td>NaN</td>\n",
       "      <td>NaN</td>\n",
       "      <td>NaN</td>\n",
       "      <td>NaN</td>\n",
       "      <td>X</td>\n",
       "      <td>NaN</td>\n",
       "      <td>X</td>\n",
       "      <td>NaN</td>\n",
       "      <td>NaN</td>\n",
       "      <td>NaN</td>\n",
       "      <td>NaN</td>\n",
       "      <td>NaN</td>\n",
       "    </tr>\n",
       "    <tr>\n",
       "      <th>2</th>\n",
       "      <td>9875</td>\n",
       "      <td>X</td>\n",
       "      <td>NaN</td>\n",
       "      <td>48163</td>\n",
       "      <td>CAMERA DIGITAL JX580 16.1 MP, 5X DE ZOOM OPTIC...</td>\n",
       "      <td>2RB39664</td>\n",
       "      <td>ALTA FLORESTA- DELEGACIA DE POLICIA CIVIL</td>\n",
       "      <td>ADMINISTRAÇÃO</td>\n",
       "      <td>NaN</td>\n",
       "      <td>NaN</td>\n",
       "      <td>NaN</td>\n",
       "      <td>NaN</td>\n",
       "      <td>NaN</td>\n",
       "      <td>X</td>\n",
       "      <td>NaN</td>\n",
       "      <td>X</td>\n",
       "      <td>NaN</td>\n",
       "      <td>NaN</td>\n",
       "      <td>NaN</td>\n",
       "      <td>X</td>\n",
       "    </tr>\n",
       "  </tbody>\n",
       "</table>\n",
       "</div>"
      ],
      "text/plain": [
       "  Item  Sim-Plaqueta Não-Plaqueta  Tombo  \\\n",
       "0  1121            X          NaN  47158   \n",
       "1  2689            X          NaN  40653   \n",
       "2  9875            X          NaN  48163   \n",
       "\n",
       "                                           Descrição   Nº DE SÉRIE  \\\n",
       "0  AR CONDICIONADO 12.000 BTUS (CONDENSADORA)ELET...  302AZPV80864   \n",
       "1                                  ARMARIO/ARTILINE/        000000   \n",
       "2  CAMERA DIGITAL JX580 16.1 MP, 5X DE ZOOM OPTIC...      2RB39664   \n",
       "\n",
       "                                     Unidade   Departamento SALA LOCALIZADO  \\\n",
       "0  ALTA FLORESTA- DELEGACIA DE POLICIA CIVIL  ADMINISTRAÇÃO  NaN        NaN   \n",
       "1  ALTA FLORESTA- DELEGACIA DE POLICIA CIVIL  ADMINISTRAÇÃO  NaN        NaN   \n",
       "2  ALTA FLORESTA- DELEGACIA DE POLICIA CIVIL  ADMINISTRAÇÃO  NaN        NaN   \n",
       "\n",
       "  Estado de Conservação Unnamed: 11 Unnamed: 12 Unnamed: 13 Classificação  \\\n",
       "0                   NaN         NaN         NaN           X           NaN   \n",
       "1                   NaN         NaN           X         NaN             X   \n",
       "2                   NaN         NaN         NaN           X           NaN   \n",
       "\n",
       "  Unnamed: 15 Unnamed: 16 Unnamed: 17 Unnamed: 18 Unnamed: 19  \n",
       "0           X         NaN         NaN           X         NaN  \n",
       "1         NaN         NaN         NaN         NaN         NaN  \n",
       "2           X         NaN         NaN         NaN           X  "
      ]
     },
     "execution_count": 56,
     "metadata": {},
     "output_type": "execute_result"
    }
   ],
   "source": [
    "df.head(3)"
   ]
  },
  {
   "cell_type": "code",
   "execution_count": 61,
   "metadata": {},
   "outputs": [
    {
     "name": "stdout",
     "output_type": "stream",
     "text": [
      "73 Unidades\n"
     ]
    }
   ],
   "source": [
    "unidade = df['Unidade'].drop_duplicates()\n",
    "print(f\"{unidade.count()} Unidades\")"
   ]
  },
  {
   "cell_type": "code",
   "execution_count": 62,
   "metadata": {},
   "outputs": [],
   "source": [
    "def paracsv(unidade):\n",
    "    colunas = ['Descrição', 'Tombo']\n",
    "    filtro = df.loc[(df['Unidade']==unidade), colunas]\n",
    "    novas_colunas = ['Localizado', 'Responsável']\n",
    "    for colunas in novas_colunas:\n",
    "        filtro[colunas] = '-'\n",
    "    filtro.to_csv(fr'{unidade}.csv',  index = False, header=True)"
   ]
  },
  {
   "cell_type": "code",
   "execution_count": 64,
   "metadata": {},
   "outputs": [
    {
     "data": {
      "text/html": [
       "<div>\n",
       "<style scoped>\n",
       "    .dataframe tbody tr th:only-of-type {\n",
       "        vertical-align: middle;\n",
       "    }\n",
       "\n",
       "    .dataframe tbody tr th {\n",
       "        vertical-align: top;\n",
       "    }\n",
       "\n",
       "    .dataframe thead th {\n",
       "        text-align: right;\n",
       "    }\n",
       "</style>\n",
       "<table border=\"1\" class=\"dataframe\">\n",
       "  <thead>\n",
       "    <tr style=\"text-align: right;\">\n",
       "      <th></th>\n",
       "      <th>Unidade</th>\n",
       "      <th>Tombo</th>\n",
       "      <th>Descrição</th>\n",
       "    </tr>\n",
       "  </thead>\n",
       "  <tbody>\n",
       "    <tr>\n",
       "      <th>349</th>\n",
       "      <td>ARIQUEMES- UNISP</td>\n",
       "      <td>57388</td>\n",
       "      <td>AR CONDICIONADO SPLIT, 58.000 BTUS PISO TETO H...</td>\n",
       "    </tr>\n",
       "    <tr>\n",
       "      <th>350</th>\n",
       "      <td>ARIQUEMES- UNISP</td>\n",
       "      <td>57389</td>\n",
       "      <td>AR CONDICIONADO SPLIT, 58.000 BTUS PISO TETO H...</td>\n",
       "    </tr>\n",
       "    <tr>\n",
       "      <th>351</th>\n",
       "      <td>ARIQUEMES- UNISP</td>\n",
       "      <td>26640</td>\n",
       "      <td>ARMARIO ALTO,C/02 PORTAS,MED. 900X420X2100MM//</td>\n",
       "    </tr>\n",
       "  </tbody>\n",
       "</table>\n",
       "</div>"
      ],
      "text/plain": [
       "              Unidade  Tombo  \\\n",
       "349  ARIQUEMES- UNISP  57388   \n",
       "350  ARIQUEMES- UNISP  57389   \n",
       "351  ARIQUEMES- UNISP  26640   \n",
       "\n",
       "                                             Descrição  \n",
       "349  AR CONDICIONADO SPLIT, 58.000 BTUS PISO TETO H...  \n",
       "350  AR CONDICIONADO SPLIT, 58.000 BTUS PISO TETO H...  \n",
       "351     ARMARIO ALTO,C/02 PORTAS,MED. 900X420X2100MM//  "
      ]
     },
     "execution_count": 64,
     "metadata": {},
     "output_type": "execute_result"
    }
   ],
   "source": [
    "ariquemes = df.loc[(df['Unidade']=='ARIQUEMES- UNISP'), ['Unidade', 'Tombo', 'Descrição']]\n",
    "filtro.head(3)"
   ]
  }
 ],
 "metadata": {
  "kernelspec": {
   "display_name": "Python 3.8.10 64-bit",
   "language": "python",
   "name": "python3"
  },
  "language_info": {
   "codemirror_mode": {
    "name": "ipython",
    "version": 3
   },
   "file_extension": ".py",
   "mimetype": "text/x-python",
   "name": "python",
   "nbconvert_exporter": "python",
   "pygments_lexer": "ipython3",
   "version": "3.8.10"
  },
  "vscode": {
   "interpreter": {
    "hash": "31f2aee4e71d21fbe5cf8b01ff0e069b9275f58929596ceb00d14d90e3e16cd6"
   }
  }
 },
 "nbformat": 4,
 "nbformat_minor": 4
}
