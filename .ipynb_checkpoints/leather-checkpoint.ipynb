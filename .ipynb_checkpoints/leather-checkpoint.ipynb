{
 "cells": [
  {
   "cell_type": "code",
   "execution_count": 6,
   "id": "952c12ff",
   "metadata": {},
   "outputs": [
    {
     "name": "stdout",
     "output_type": "stream",
     "text": [
      "Requirement already satisfied: leather in /Users/brayan/Documents/projetos/env/lib/python3.9/site-packages (0.3.4)\r\n",
      "Requirement already satisfied: six>=1.6.1 in /Users/brayan/Documents/projetos/env/lib/python3.9/site-packages (from leather) (1.16.0)\r\n"
     ]
    }
   ],
   "source": [
    "!pip install leather"
   ]
  },
  {
   "cell_type": "code",
   "execution_count": 4,
   "id": "585f5d8c",
   "metadata": {
    "scrolled": true
   },
   "outputs": [
    {
     "name": "stdout",
     "output_type": "stream",
     "text": [
      "Requirement already satisfied: pip in /Users/brayan/Documents/projetos/env/lib/python3.9/site-packages (22.3)\n",
      "Collecting pip\n",
      "  Downloading pip-22.3.1-py3-none-any.whl (2.1 MB)\n",
      "\u001b[2K     \u001b[90m━━━━━━━━━━━━━━━━━━━━━━━━━━━━━━━━━━━━━━━━\u001b[0m \u001b[32m2.1/2.1 MB\u001b[0m \u001b[31m5.5 MB/s\u001b[0m eta \u001b[36m0:00:00\u001b[0ma \u001b[36m0:00:01\u001b[0m\n",
      "\u001b[?25hInstalling collected packages: pip\n",
      "  Attempting uninstall: pip\n",
      "    Found existing installation: pip 22.3\n",
      "    Uninstalling pip-22.3:\n",
      "      Successfully uninstalled pip-22.3\n",
      "Successfully installed pip-22.3.1\n"
     ]
    }
   ],
   "source": []
  },
  {
   "cell_type": "code",
   "execution_count": 7,
   "id": "1d5946b4",
   "metadata": {
    "scrolled": true
   },
   "outputs": [
    {
     "name": "stdout",
     "output_type": "stream",
     "text": [
      "\u001b[31mERROR: XMLRPC request failed [code: -32500]\r\n",
      "RuntimeError: PyPI no longer supports 'pip search' (or XML-RPC search). Please use https://pypi.org/search (via a browser) instead. See https://warehouse.pypa.io/api-reference/xml-rpc.html#deprecated-methods for more information.\u001b[0m\u001b[31m\r\n",
      "\u001b[0m"
     ]
    }
   ],
   "source": [
    "!pip3 search leather"
   ]
  },
  {
   "cell_type": "code",
   "execution_count": 8,
   "id": "de44a009",
   "metadata": {
    "collapsed": true
   },
   "outputs": [
    {
     "name": "stdout",
     "output_type": "stream",
     "text": [
      "The Zen of Python, by Tim Peters\n",
      "\n",
      "Beautiful is better than ugly.\n",
      "Explicit is better than implicit.\n",
      "Simple is better than complex.\n",
      "Complex is better than complicated.\n",
      "Flat is better than nested.\n",
      "Sparse is better than dense.\n",
      "Readability counts.\n",
      "Special cases aren't special enough to break the rules.\n",
      "Although practicality beats purity.\n",
      "Errors should never pass silently.\n",
      "Unless explicitly silenced.\n",
      "In the face of ambiguity, refuse the temptation to guess.\n",
      "There should be one-- and preferably only one --obvious way to do it.\n",
      "Although that way may not be obvious at first unless you're Dutch.\n",
      "Now is better than never.\n",
      "Although never is often better than *right* now.\n",
      "If the implementation is hard to explain, it's a bad idea.\n",
      "If the implementation is easy to explain, it may be a good idea.\n",
      "Namespaces are one honking great idea -- let's do more of those!\n"
     ]
    }
   ],
   "source": [
    "import this"
   ]
  },
  {
   "cell_type": "code",
   "execution_count": 10,
   "id": "f00c5ad1",
   "metadata": {},
   "outputs": [],
   "source": [
    "import leather"
   ]
  },
  {
   "cell_type": "code",
   "execution_count": 11,
   "id": "f8e0ae55",
   "metadata": {},
   "outputs": [],
   "source": [
    "data1 = [(1.5, 2), (2, 3), (4.5, 6), (7.5, 4)]"
   ]
  },
  {
   "cell_type": "code",
   "execution_count": 12,
   "id": "91ebdeb7",
   "metadata": {},
   "outputs": [],
   "source": [
    "chart = leather.Chart('Simple pairs of x-y')"
   ]
  },
  {
   "cell_type": "code",
   "execution_count": 15,
   "id": "813dbd24",
   "metadata": {},
   "outputs": [],
   "source": [
    "chart.add_dots(data1)"
   ]
  },
  {
   "cell_type": "code",
   "execution_count": 16,
   "id": "d7b1a80e",
   "metadata": {},
   "outputs": [
    {
     "data": {
      "image/svg+xml": [
       "<svg xmlns=\"http://www.w3.org/2000/svg\" width=\"800\" height=\"600\" version=\"1.1\"><g><rect x=\"0\" y=\"0\" width=\"800\" height=\"600\" fill=\"#f9f9f9\"/><g transform=\"translate(40 40)\"><g transform=\"translate(16 0)\"><text x=\"0\" y=\"0\" fill=\"#333\" font-family=\"Monaco\" font-size=\"16\">Simple pairs of x-y</text><g transform=\"translate(0 20)\"><g transform=\"translate(0 0)\"><rect x=\"0\" y=\"-10\" width=\"10\" height=\"10\" fill=\"#e41a1c\"/><text x=\"14\" y=\"0\" fill=\"#666\" font-family=\"Monaco\" font-size=\"14\">Unnamed series</text></g><g transform=\"translate(158 0)\"><rect x=\"0\" y=\"-10\" width=\"10\" height=\"10\" fill=\"#377eb8\"/><text x=\"14\" y=\"0\" fill=\"#666\" font-family=\"Monaco\" font-size=\"14\">Unnamed series</text></g></g></g><g transform=\"translate(0 38)\"><g transform=\"translate(16 0)\"><g class=\"axis bottom\"><g class=\"tick\"><line x1=\"234.6666666666666666666666666\" y1=\"0\" x2=\"234.6666666666666666666666666\" y2=\"464.0\" stroke=\"#eee\" stroke-width=\"1\"/><text x=\"234.6666666666666666666666666\" y=\"468.0\" dy=\"1em\" fill=\"#9c9c9c\" text-anchor=\"middle\" font-family=\"Monaco\">2.5</text></g><g class=\"tick\"><line x1=\"469.3333333333333333333333334\" y1=\"0\" x2=\"469.3333333333333333333333334\" y2=\"464.0\" stroke=\"#eee\" stroke-width=\"1\"/><text x=\"469.3333333333333333333333334\" y=\"468.0\" dy=\"1em\" fill=\"#9c9c9c\" text-anchor=\"middle\" font-family=\"Monaco\">5</text></g><g class=\"tick\"><line x1=\"704\" y1=\"0\" x2=\"704\" y2=\"464.0\" stroke=\"#eee\" stroke-width=\"1\"/><text x=\"704\" y=\"468.0\" dy=\"1em\" fill=\"#9c9c9c\" text-anchor=\"middle\" font-family=\"Monaco\">7.5</text></g><g class=\"tick\"><line x1=\"0\" y1=\"0\" x2=\"0\" y2=\"464.0\" stroke=\"#a8a8a8\" stroke-width=\"1\"/><text x=\"0\" y=\"468.0\" dy=\"1em\" fill=\"#9c9c9c\" text-anchor=\"middle\" font-family=\"Monaco\">0</text></g></g><g class=\"axis left\"><g class=\"tick\"><line x1=\"-4\" y1=\"460\" x2=\"704.0\" y2=\"460\" stroke=\"#eee\" stroke-width=\"1\"/><text x=\"-8\" y=\"460\" dy=\"0.32em\" fill=\"#9c9c9c\" text-anchor=\"end\" font-family=\"Monaco\">2</text></g><g class=\"tick\"><line x1=\"-4\" y1=\"345.00\" x2=\"704.0\" y2=\"345.00\" stroke=\"#eee\" stroke-width=\"1\"/><text x=\"-8\" y=\"345.00\" dy=\"0.32em\" fill=\"#9c9c9c\" text-anchor=\"end\" font-family=\"Monaco\">3</text></g><g class=\"tick\"><line x1=\"-4\" y1=\"230.0\" x2=\"704.0\" y2=\"230.0\" stroke=\"#eee\" stroke-width=\"1\"/><text x=\"-8\" y=\"230.0\" dy=\"0.32em\" fill=\"#9c9c9c\" text-anchor=\"end\" font-family=\"Monaco\">4</text></g><g class=\"tick\"><line x1=\"-4\" y1=\"115.00\" x2=\"704.0\" y2=\"115.00\" stroke=\"#eee\" stroke-width=\"1\"/><text x=\"-8\" y=\"115.00\" dy=\"0.32em\" fill=\"#9c9c9c\" text-anchor=\"end\" font-family=\"Monaco\">5</text></g><g class=\"tick\"><line x1=\"-4\" y1=\"0\" x2=\"704.0\" y2=\"0\" stroke=\"#eee\" stroke-width=\"1\"/><text x=\"-8\" y=\"0\" dy=\"0.32em\" fill=\"#9c9c9c\" text-anchor=\"end\" font-family=\"Monaco\">6</text></g></g><g><g class=\"series dots\"><circle cx=\"140.8\" cy=\"460\" r=\"3\" fill=\"#e41a1c\"/><circle cx=\"187.7333333333333333333333334\" cy=\"345.00\" r=\"3\" fill=\"#e41a1c\"/><circle cx=\"422.4\" cy=\"0\" r=\"3\" fill=\"#e41a1c\"/><circle cx=\"704\" cy=\"230.0\" r=\"3\" fill=\"#e41a1c\"/></g><g class=\"series dots\"><circle cx=\"140.8\" cy=\"460\" r=\"3\" fill=\"#377eb8\"/><circle cx=\"187.7333333333333333333333334\" cy=\"345.00\" r=\"3\" fill=\"#377eb8\"/><circle cx=\"422.4\" cy=\"0\" r=\"3\" fill=\"#377eb8\"/><circle cx=\"704\" cy=\"230.0\" r=\"3\" fill=\"#377eb8\"/></g></g></g></g></g></g></svg>"
      ],
      "text/plain": [
       "<IPython.core.display.SVG object>"
      ]
     },
     "execution_count": 16,
     "metadata": {},
     "output_type": "execute_result"
    }
   ],
   "source": [
    "chart.to_svg()"
   ]
  },
  {
   "cell_type": "code",
   "execution_count": 17,
   "id": "62024d97",
   "metadata": {},
   "outputs": [],
   "source": [
    "#chart.to_svg('image1.svg')"
   ]
  },
  {
   "cell_type": "code",
   "execution_count": 18,
   "id": "34be3cec",
   "metadata": {},
   "outputs": [
    {
     "data": {
      "image/svg+xml": [
       "<svg xmlns=\"http://www.w3.org/2000/svg\" width=\"800\" height=\"600\" version=\"1.1\"><g><rect x=\"0\" y=\"0\" width=\"800\" height=\"600\" fill=\"#f9f9f9\"/><g transform=\"translate(40 40)\"><g transform=\"translate(16 0)\"><text x=\"0\" y=\"0\" fill=\"#333\" font-family=\"Monaco\" font-size=\"16\">Customised Dots</text></g><g transform=\"translate(0 20)\"><g transform=\"translate(16 0)\"><g class=\"axis bottom\"><g class=\"tick\"><line x1=\"234.6666666666666666666666666\" y1=\"0\" x2=\"234.6666666666666666666666666\" y2=\"482.0\" stroke=\"#eee\" stroke-width=\"1\"/><text x=\"234.6666666666666666666666666\" y=\"486.0\" dy=\"1em\" fill=\"#9c9c9c\" text-anchor=\"middle\" font-family=\"Monaco\">2.5</text></g><g class=\"tick\"><line x1=\"469.3333333333333333333333334\" y1=\"0\" x2=\"469.3333333333333333333333334\" y2=\"482.0\" stroke=\"#eee\" stroke-width=\"1\"/><text x=\"469.3333333333333333333333334\" y=\"486.0\" dy=\"1em\" fill=\"#9c9c9c\" text-anchor=\"middle\" font-family=\"Monaco\">5</text></g><g class=\"tick\"><line x1=\"704\" y1=\"0\" x2=\"704\" y2=\"482.0\" stroke=\"#eee\" stroke-width=\"1\"/><text x=\"704\" y=\"486.0\" dy=\"1em\" fill=\"#9c9c9c\" text-anchor=\"middle\" font-family=\"Monaco\">7.5</text></g><g class=\"tick\"><line x1=\"0\" y1=\"0\" x2=\"0\" y2=\"482.0\" stroke=\"#a8a8a8\" stroke-width=\"1\"/><text x=\"0\" y=\"486.0\" dy=\"1em\" fill=\"#9c9c9c\" text-anchor=\"middle\" font-family=\"Monaco\">0</text></g></g><g class=\"axis left\"><g class=\"tick\"><line x1=\"-4\" y1=\"478\" x2=\"704.0\" y2=\"478\" stroke=\"#eee\" stroke-width=\"1\"/><text x=\"-8\" y=\"478\" dy=\"0.32em\" fill=\"#9c9c9c\" text-anchor=\"end\" font-family=\"Monaco\">2</text></g><g class=\"tick\"><line x1=\"-4\" y1=\"358.50\" x2=\"704.0\" y2=\"358.50\" stroke=\"#eee\" stroke-width=\"1\"/><text x=\"-8\" y=\"358.50\" dy=\"0.32em\" fill=\"#9c9c9c\" text-anchor=\"end\" font-family=\"Monaco\">3</text></g><g class=\"tick\"><line x1=\"-4\" y1=\"239.0\" x2=\"704.0\" y2=\"239.0\" stroke=\"#eee\" stroke-width=\"1\"/><text x=\"-8\" y=\"239.0\" dy=\"0.32em\" fill=\"#9c9c9c\" text-anchor=\"end\" font-family=\"Monaco\">4</text></g><g class=\"tick\"><line x1=\"-4\" y1=\"119.50\" x2=\"704.0\" y2=\"119.50\" stroke=\"#eee\" stroke-width=\"1\"/><text x=\"-8\" y=\"119.50\" dy=\"0.32em\" fill=\"#9c9c9c\" text-anchor=\"end\" font-family=\"Monaco\">5</text></g><g class=\"tick\"><line x1=\"-4\" y1=\"0\" x2=\"704.0\" y2=\"0\" stroke=\"#eee\" stroke-width=\"1\"/><text x=\"-8\" y=\"0\" dy=\"0.32em\" fill=\"#9c9c9c\" text-anchor=\"end\" font-family=\"Monaco\">6</text></g></g><g><g class=\"series dots\"><circle cx=\"140.8\" cy=\"478\" r=\"10\" fill=\"#00ff00\"/><circle cx=\"187.7333333333333333333333334\" cy=\"358.50\" r=\"10\" fill=\"#00ff00\"/><circle cx=\"422.4\" cy=\"0\" r=\"10\" fill=\"#00ff00\"/><circle cx=\"704\" cy=\"239.0\" r=\"10\" fill=\"#00ff00\"/></g></g></g></g></g></g></svg>"
      ],
      "text/plain": [
       "<IPython.core.display.SVG object>"
      ]
     },
     "execution_count": 18,
     "metadata": {},
     "output_type": "execute_result"
    }
   ],
   "source": [
    "chart = leather.Chart('Customised Dots')\n",
    "chart.add_dots(data1, fill_color='#00ff00', radius=10)\n",
    "chart.to_svg()"
   ]
  },
  {
   "cell_type": "markdown",
   "id": "d0b24dc9",
   "metadata": {},
   "source": [
    "## multiplas séries"
   ]
  },
  {
   "cell_type": "code",
   "execution_count": 19,
   "id": "5492d225",
   "metadata": {},
   "outputs": [],
   "source": [
    "data2 = [(2, 3), (4, 5), (5, 6), (7, 5)]"
   ]
  },
  {
   "cell_type": "code",
   "execution_count": 20,
   "id": "ec88570a",
   "metadata": {},
   "outputs": [
    {
     "data": {
      "image/svg+xml": [
       "<svg xmlns=\"http://www.w3.org/2000/svg\" width=\"800\" height=\"600\" version=\"1.1\"><g><rect x=\"0\" y=\"0\" width=\"800\" height=\"600\" fill=\"#f9f9f9\"/><g transform=\"translate(40 40)\"><g transform=\"translate(16 0)\"><text x=\"0\" y=\"0\" fill=\"#333\" font-family=\"Monaco\" font-size=\"16\">Visualizing Multiple series</text><g transform=\"translate(0 20)\"><g transform=\"translate(0 0)\"><rect x=\"0\" y=\"-10\" width=\"10\" height=\"10\" fill=\"#e41a1c\"/><text x=\"14\" y=\"0\" fill=\"#666\" font-family=\"Monaco\" font-size=\"14\">Unnamed series</text></g><g transform=\"translate(158 0)\"><rect x=\"0\" y=\"-10\" width=\"10\" height=\"10\" fill=\"#377eb8\"/><text x=\"14\" y=\"0\" fill=\"#666\" font-family=\"Monaco\" font-size=\"14\">Unnamed series</text></g></g></g><g transform=\"translate(0 38)\"><g transform=\"translate(16 0)\"><g class=\"axis bottom\"><g class=\"tick\"><line x1=\"234.6666666666666666666666666\" y1=\"0\" x2=\"234.6666666666666666666666666\" y2=\"464.0\" stroke=\"#eee\" stroke-width=\"1\"/><text x=\"234.6666666666666666666666666\" y=\"468.0\" dy=\"1em\" fill=\"#9c9c9c\" text-anchor=\"middle\" font-family=\"Monaco\">2.5</text></g><g class=\"tick\"><line x1=\"469.3333333333333333333333334\" y1=\"0\" x2=\"469.3333333333333333333333334\" y2=\"464.0\" stroke=\"#eee\" stroke-width=\"1\"/><text x=\"469.3333333333333333333333334\" y=\"468.0\" dy=\"1em\" fill=\"#9c9c9c\" text-anchor=\"middle\" font-family=\"Monaco\">5</text></g><g class=\"tick\"><line x1=\"704\" y1=\"0\" x2=\"704\" y2=\"464.0\" stroke=\"#eee\" stroke-width=\"1\"/><text x=\"704\" y=\"468.0\" dy=\"1em\" fill=\"#9c9c9c\" text-anchor=\"middle\" font-family=\"Monaco\">7.5</text></g><g class=\"tick\"><line x1=\"0\" y1=\"0\" x2=\"0\" y2=\"464.0\" stroke=\"#a8a8a8\" stroke-width=\"1\"/><text x=\"0\" y=\"468.0\" dy=\"1em\" fill=\"#9c9c9c\" text-anchor=\"middle\" font-family=\"Monaco\">0</text></g></g><g class=\"axis left\"><g class=\"tick\"><line x1=\"-4\" y1=\"460\" x2=\"704.0\" y2=\"460\" stroke=\"#eee\" stroke-width=\"1\"/><text x=\"-8\" y=\"460\" dy=\"0.32em\" fill=\"#9c9c9c\" text-anchor=\"end\" font-family=\"Monaco\">2</text></g><g class=\"tick\"><line x1=\"-4\" y1=\"345.00\" x2=\"704.0\" y2=\"345.00\" stroke=\"#eee\" stroke-width=\"1\"/><text x=\"-8\" y=\"345.00\" dy=\"0.32em\" fill=\"#9c9c9c\" text-anchor=\"end\" font-family=\"Monaco\">3</text></g><g class=\"tick\"><line x1=\"-4\" y1=\"230.0\" x2=\"704.0\" y2=\"230.0\" stroke=\"#eee\" stroke-width=\"1\"/><text x=\"-8\" y=\"230.0\" dy=\"0.32em\" fill=\"#9c9c9c\" text-anchor=\"end\" font-family=\"Monaco\">4</text></g><g class=\"tick\"><line x1=\"-4\" y1=\"115.00\" x2=\"704.0\" y2=\"115.00\" stroke=\"#eee\" stroke-width=\"1\"/><text x=\"-8\" y=\"115.00\" dy=\"0.32em\" fill=\"#9c9c9c\" text-anchor=\"end\" font-family=\"Monaco\">5</text></g><g class=\"tick\"><line x1=\"-4\" y1=\"0\" x2=\"704.0\" y2=\"0\" stroke=\"#eee\" stroke-width=\"1\"/><text x=\"-8\" y=\"0\" dy=\"0.32em\" fill=\"#9c9c9c\" text-anchor=\"end\" font-family=\"Monaco\">6</text></g></g><g><g class=\"series dots\"><circle cx=\"140.8\" cy=\"460\" r=\"3\" fill=\"#e41a1c\"/><circle cx=\"187.7333333333333333333333334\" cy=\"345.00\" r=\"3\" fill=\"#e41a1c\"/><circle cx=\"422.4\" cy=\"0\" r=\"3\" fill=\"#e41a1c\"/><circle cx=\"704\" cy=\"230.0\" r=\"3\" fill=\"#e41a1c\"/></g><g class=\"series dots\"><circle cx=\"187.7333333333333333333333334\" cy=\"345.00\" r=\"3\" fill=\"#377eb8\"/><circle cx=\"375.4666666666666666666666666\" cy=\"115.00\" r=\"3\" fill=\"#377eb8\"/><circle cx=\"469.3333333333333333333333334\" cy=\"0\" r=\"3\" fill=\"#377eb8\"/><circle cx=\"657.0666666666666666666666666\" cy=\"115.00\" r=\"3\" fill=\"#377eb8\"/></g></g></g></g></g></g></svg>"
      ],
      "text/plain": [
       "<IPython.core.display.SVG object>"
      ]
     },
     "execution_count": 20,
     "metadata": {},
     "output_type": "execute_result"
    }
   ],
   "source": [
    "chart = leather.Chart('Visualizing Multiple series')\n",
    "chart.add_dots(data1)\n",
    "chart.add_dots(data2)\n",
    "chart.to_svg()"
   ]
  },
  {
   "cell_type": "markdown",
   "id": "4b558ef5",
   "metadata": {},
   "source": [
    "## visulizando linhas"
   ]
  },
  {
   "cell_type": "code",
   "execution_count": null,
   "id": "04646767",
   "metadata": {},
   "outputs": [],
   "source": []
  },
  {
   "cell_type": "code",
   "execution_count": 21,
   "id": "962443d4",
   "metadata": {},
   "outputs": [
    {
     "data": {
      "image/svg+xml": [
       "<svg xmlns=\"http://www.w3.org/2000/svg\" width=\"800\" height=\"600\" version=\"1.1\"><g><rect x=\"0\" y=\"0\" width=\"800\" height=\"600\" fill=\"#f9f9f9\"/><g transform=\"translate(40 40)\"><g transform=\"translate(16 0)\"><text x=\"0\" y=\"0\" fill=\"#333\" font-family=\"Monaco\" font-size=\"16\">Visualizing Lines</text></g><g transform=\"translate(0 20)\"><g transform=\"translate(16 0)\"><g class=\"axis bottom\"><g class=\"tick\"><line x1=\"234.6666666666666666666666666\" y1=\"0\" x2=\"234.6666666666666666666666666\" y2=\"482.0\" stroke=\"#eee\" stroke-width=\"1\"/><text x=\"234.6666666666666666666666666\" y=\"486.0\" dy=\"1em\" fill=\"#9c9c9c\" text-anchor=\"middle\" font-family=\"Monaco\">2.5</text></g><g class=\"tick\"><line x1=\"469.3333333333333333333333334\" y1=\"0\" x2=\"469.3333333333333333333333334\" y2=\"482.0\" stroke=\"#eee\" stroke-width=\"1\"/><text x=\"469.3333333333333333333333334\" y=\"486.0\" dy=\"1em\" fill=\"#9c9c9c\" text-anchor=\"middle\" font-family=\"Monaco\">5</text></g><g class=\"tick\"><line x1=\"704\" y1=\"0\" x2=\"704\" y2=\"482.0\" stroke=\"#eee\" stroke-width=\"1\"/><text x=\"704\" y=\"486.0\" dy=\"1em\" fill=\"#9c9c9c\" text-anchor=\"middle\" font-family=\"Monaco\">7.5</text></g><g class=\"tick\"><line x1=\"0\" y1=\"0\" x2=\"0\" y2=\"482.0\" stroke=\"#a8a8a8\" stroke-width=\"1\"/><text x=\"0\" y=\"486.0\" dy=\"1em\" fill=\"#9c9c9c\" text-anchor=\"middle\" font-family=\"Monaco\">0</text></g></g><g class=\"axis left\"><g class=\"tick\"><line x1=\"-4\" y1=\"478\" x2=\"704.0\" y2=\"478\" stroke=\"#eee\" stroke-width=\"1\"/><text x=\"-8\" y=\"478\" dy=\"0.32em\" fill=\"#9c9c9c\" text-anchor=\"end\" font-family=\"Monaco\">2</text></g><g class=\"tick\"><line x1=\"-4\" y1=\"358.50\" x2=\"704.0\" y2=\"358.50\" stroke=\"#eee\" stroke-width=\"1\"/><text x=\"-8\" y=\"358.50\" dy=\"0.32em\" fill=\"#9c9c9c\" text-anchor=\"end\" font-family=\"Monaco\">3</text></g><g class=\"tick\"><line x1=\"-4\" y1=\"239.0\" x2=\"704.0\" y2=\"239.0\" stroke=\"#eee\" stroke-width=\"1\"/><text x=\"-8\" y=\"239.0\" dy=\"0.32em\" fill=\"#9c9c9c\" text-anchor=\"end\" font-family=\"Monaco\">4</text></g><g class=\"tick\"><line x1=\"-4\" y1=\"119.50\" x2=\"704.0\" y2=\"119.50\" stroke=\"#eee\" stroke-width=\"1\"/><text x=\"-8\" y=\"119.50\" dy=\"0.32em\" fill=\"#9c9c9c\" text-anchor=\"end\" font-family=\"Monaco\">5</text></g><g class=\"tick\"><line x1=\"-4\" y1=\"0\" x2=\"704.0\" y2=\"0\" stroke=\"#eee\" stroke-width=\"1\"/><text x=\"-8\" y=\"0\" dy=\"0.32em\" fill=\"#9c9c9c\" text-anchor=\"end\" font-family=\"Monaco\">6</text></g></g><g><g class=\"series lines\"><path stroke=\"#e41a1c\" fill=\"none\" stroke-width=\"2\" d=\"M 140.8 478 L 187.7333333333333333333333334 358.50 L 422.4 0 L 704 239.0\"/></g></g></g></g></g></g></svg>"
      ],
      "text/plain": [
       "<IPython.core.display.SVG object>"
      ]
     },
     "execution_count": 21,
     "metadata": {},
     "output_type": "execute_result"
    }
   ],
   "source": [
    "chart = leather.Chart('Visualizing Lines')\n",
    "chart.add_line(data1)\n",
    "chart.to_svg()"
   ]
  },
  {
   "cell_type": "code",
   "execution_count": 22,
   "id": "2902f814",
   "metadata": {},
   "outputs": [
    {
     "data": {
      "image/svg+xml": [
       "<svg xmlns=\"http://www.w3.org/2000/svg\" width=\"800\" height=\"600\" version=\"1.1\"><g><rect x=\"0\" y=\"0\" width=\"800\" height=\"600\" fill=\"#f9f9f9\"/><g transform=\"translate(40 40)\"><g transform=\"translate(16 0)\"><text x=\"0\" y=\"0\" fill=\"#333\" font-family=\"Monaco\" font-size=\"16\">Customized Line</text></g><g transform=\"translate(0 20)\"><g transform=\"translate(16 0)\"><g class=\"axis bottom\"><g class=\"tick\"><line x1=\"234.6666666666666666666666666\" y1=\"0\" x2=\"234.6666666666666666666666666\" y2=\"482.0\" stroke=\"#eee\" stroke-width=\"1\"/><text x=\"234.6666666666666666666666666\" y=\"486.0\" dy=\"1em\" fill=\"#9c9c9c\" text-anchor=\"middle\" font-family=\"Monaco\">2.5</text></g><g class=\"tick\"><line x1=\"469.3333333333333333333333334\" y1=\"0\" x2=\"469.3333333333333333333333334\" y2=\"482.0\" stroke=\"#eee\" stroke-width=\"1\"/><text x=\"469.3333333333333333333333334\" y=\"486.0\" dy=\"1em\" fill=\"#9c9c9c\" text-anchor=\"middle\" font-family=\"Monaco\">5</text></g><g class=\"tick\"><line x1=\"704\" y1=\"0\" x2=\"704\" y2=\"482.0\" stroke=\"#eee\" stroke-width=\"1\"/><text x=\"704\" y=\"486.0\" dy=\"1em\" fill=\"#9c9c9c\" text-anchor=\"middle\" font-family=\"Monaco\">7.5</text></g><g class=\"tick\"><line x1=\"0\" y1=\"0\" x2=\"0\" y2=\"482.0\" stroke=\"#a8a8a8\" stroke-width=\"1\"/><text x=\"0\" y=\"486.0\" dy=\"1em\" fill=\"#9c9c9c\" text-anchor=\"middle\" font-family=\"Monaco\">0</text></g></g><g class=\"axis left\"><g class=\"tick\"><line x1=\"-4\" y1=\"478\" x2=\"704.0\" y2=\"478\" stroke=\"#eee\" stroke-width=\"1\"/><text x=\"-8\" y=\"478\" dy=\"0.32em\" fill=\"#9c9c9c\" text-anchor=\"end\" font-family=\"Monaco\">2</text></g><g class=\"tick\"><line x1=\"-4\" y1=\"358.50\" x2=\"704.0\" y2=\"358.50\" stroke=\"#eee\" stroke-width=\"1\"/><text x=\"-8\" y=\"358.50\" dy=\"0.32em\" fill=\"#9c9c9c\" text-anchor=\"end\" font-family=\"Monaco\">3</text></g><g class=\"tick\"><line x1=\"-4\" y1=\"239.0\" x2=\"704.0\" y2=\"239.0\" stroke=\"#eee\" stroke-width=\"1\"/><text x=\"-8\" y=\"239.0\" dy=\"0.32em\" fill=\"#9c9c9c\" text-anchor=\"end\" font-family=\"Monaco\">4</text></g><g class=\"tick\"><line x1=\"-4\" y1=\"119.50\" x2=\"704.0\" y2=\"119.50\" stroke=\"#eee\" stroke-width=\"1\"/><text x=\"-8\" y=\"119.50\" dy=\"0.32em\" fill=\"#9c9c9c\" text-anchor=\"end\" font-family=\"Monaco\">5</text></g><g class=\"tick\"><line x1=\"-4\" y1=\"0\" x2=\"704.0\" y2=\"0\" stroke=\"#eee\" stroke-width=\"1\"/><text x=\"-8\" y=\"0\" dy=\"0.32em\" fill=\"#9c9c9c\" text-anchor=\"end\" font-family=\"Monaco\">6</text></g></g><g><g class=\"series lines\"><path stroke=\"#0000ff\" fill=\"none\" stroke-width=\"3\" d=\"M 140.8 478 L 187.7333333333333333333333334 358.50 L 422.4 0 L 704 239.0\"/></g></g></g></g></g></g></svg>"
      ],
      "text/plain": [
       "<IPython.core.display.SVG object>"
      ]
     },
     "execution_count": 22,
     "metadata": {},
     "output_type": "execute_result"
    }
   ],
   "source": [
    "chart = leather.Chart('Customized Line')\n",
    "chart.add_line(data1,stroke_color='#0000ff', width=3)\n",
    "chart.to_svg()"
   ]
  },
  {
   "cell_type": "markdown",
   "id": "94ccf5f9",
   "metadata": {},
   "source": [
    "## multiplas linhas"
   ]
  },
  {
   "cell_type": "code",
   "execution_count": null,
   "id": "9253783c",
   "metadata": {},
   "outputs": [],
   "source": [
    "chart = leather.Chart('Visualizing Multiple Lines')\n",
    "chart.add_line(data1)\n",
    "chart.add_line(data2)\n",
    "chart.to_svg()"
   ]
  },
  {
   "cell_type": "markdown",
   "id": "8ee57d02",
   "metadata": {},
   "source": [
    "## pratical python data vizualization\n",
    "- paginas 39"
   ]
  }
 ],
 "metadata": {
  "kernelspec": {
   "display_name": "Python 3 (ipykernel)",
   "language": "python",
   "name": "python3"
  },
  "language_info": {
   "codemirror_mode": {
    "name": "ipython",
    "version": 3
   },
   "file_extension": ".py",
   "mimetype": "text/x-python",
   "name": "python",
   "nbconvert_exporter": "python",
   "pygments_lexer": "ipython3",
   "version": "3.9.6"
  }
 },
 "nbformat": 4,
 "nbformat_minor": 5
}
