{
 "cells": [
  {
   "cell_type": "markdown",
   "metadata": {
    "id": "pRpilFw0_l5z"
   },
   "source": [
    "# IMPORTANDO PANDAS"
   ]
  },
  {
   "cell_type": "code",
   "execution_count": 1,
   "metadata": {
    "id": "2EWJlnZHsGDr"
   },
   "outputs": [],
   "source": [
    "import pandas as pd\n",
    "from matplotlib import pyplot as plt"
   ]
  },
  {
   "cell_type": "markdown",
   "metadata": {
    "id": "HVOiN7Hg_sNO"
   },
   "source": [
    "## Vídeo 1"
   ]
  },
  {
   "cell_type": "markdown",
   "metadata": {
    "id": "uCMrYFld_1cn"
   },
   "source": [
    "https://www.youtube.com/watch?v=a9UrKTVEeZA\n",
    "Finalzinho do video para conclusão"
   ]
  },
  {
   "cell_type": "code",
   "execution_count": 12,
   "metadata": {
    "colab": {
     "base_uri": "https://localhost:8080/",
     "height": 295
    },
    "executionInfo": {
     "elapsed": 18,
     "status": "ok",
     "timestamp": 1624201094624,
     "user": {
      "displayName": "Brayan Mesquita",
      "photoUrl": "https://lh3.googleusercontent.com/a-/AOh14GgUNgBWhHaealcWxBADroAKRwy9Vr8HNwETEGFiYA=s64",
      "userId": "10057779017214003968"
     },
     "user_tz": 240
    },
    "id": "QQ9zUwBBsML9",
    "outputId": "bf70e160-40de-4be3-acea-19405fe09adf"
   },
   "outputs": [
    {
     "data": {
      "image/png": "[encoded data removed]",
      "text/plain": [
       "<Figure size 640x480 with 1 Axes>"
      ]
     },
     "metadata": {},
     "output_type": "display_data"
    }
   ],
   "source": [
    "x = [2, 4, 6]\n",
    "y = [1, 5, 6]\n",
    "z = [10, 3, 0]\n",
    "plt.plot(x, y, 'o')\n",
    "plt.plot(x, z)\n",
    "plt.title('Gráfico')\n",
    "plt.xlabel('X')\n",
    "plt.ylabel('Y')\n",
    "plt.legend([\"Este é o Y\", \"Este é o Z\"])\n",
    "plt.show()"
   ]
  },
  {
   "cell_type": "markdown",
   "metadata": {
    "id": "v8K5hE3987fW"
   },
   "source": [
    "# Comparação EUA e China"
   ]
  },
  {
   "cell_type": "code",
   "execution_count": 6,
   "metadata": {
    "colab": {
     "base_uri": "https://localhost:8080/",
     "height": 203
    },
    "executionInfo": {
     "elapsed": 711,
     "status": "ok",
     "timestamp": 1624201355784,
     "user": {
      "displayName": "Brayan Mesquita",
      "photoUrl": "https://lh3.googleusercontent.com/a-/AOh14GgUNgBWhHaealcWxBADroAKRwy9Vr8HNwETEGFiYA=s64",
      "userId": "10057779017214003968"
     },
     "user_tz": 240
    },
    "id": "LbT4mn-J8DBY",
    "outputId": "17d2e5a7-d1b9-4e04-a296-b9fcd5ee31ec"
   },
   "outputs": [
    {
     "data": {
      "text/html": [
       "<div>\n",
       "<style scoped>\n",
       "    .dataframe tbody tr th:only-of-type {\n",
       "        vertical-align: middle;\n",
       "    }\n",
       "\n",
       "    .dataframe tbody tr th {\n",
       "        vertical-align: top;\n",
       "    }\n",
       "\n",
       "    .dataframe thead th {\n",
       "        text-align: right;\n",
       "    }\n",
       "</style>\n",
       "<table border=\"1\" class=\"dataframe\">\n",
       "  <thead>\n",
       "    <tr style=\"text-align: right;\">\n",
       "      <th></th>\n",
       "      <th>country</th>\n",
       "      <th>year</th>\n",
       "      <th>population</th>\n",
       "    </tr>\n",
       "  </thead>\n",
       "  <tbody>\n",
       "    <tr>\n",
       "      <th>0</th>\n",
       "      <td>Afghanistan</td>\n",
       "      <td>1952</td>\n",
       "      <td>8425333</td>\n",
       "    </tr>\n",
       "    <tr>\n",
       "      <th>1</th>\n",
       "      <td>Afghanistan</td>\n",
       "      <td>1957</td>\n",
       "      <td>9240934</td>\n",
       "    </tr>\n",
       "    <tr>\n",
       "      <th>2</th>\n",
       "      <td>Afghanistan</td>\n",
       "      <td>1962</td>\n",
       "      <td>10267083</td>\n",
       "    </tr>\n",
       "    <tr>\n",
       "      <th>3</th>\n",
       "      <td>Afghanistan</td>\n",
       "      <td>1967</td>\n",
       "      <td>11537966</td>\n",
       "    </tr>\n",
       "    <tr>\n",
       "      <th>4</th>\n",
       "      <td>Afghanistan</td>\n",
       "      <td>1972</td>\n",
       "      <td>13079460</td>\n",
       "    </tr>\n",
       "  </tbody>\n",
       "</table>\n",
       "</div>"
      ],
      "text/plain": [
       "       country  year  population\n",
       "0  Afghanistan  1952     8425333\n",
       "1  Afghanistan  1957     9240934\n",
       "2  Afghanistan  1962    10267083\n",
       "3  Afghanistan  1967    11537966\n",
       "4  Afghanistan  1972    13079460"
      ]
     },
     "execution_count": 6,
     "metadata": {},
     "output_type": "execute_result"
    }
   ],
   "source": [
    "paises = pd.read_csv('DADOS/countries.csv')\n",
    "paises.head(5)"
   ]
  },
  {
   "cell_type": "code",
   "execution_count": 27,
   "metadata": {
    "colab": {
     "base_uri": "https://localhost:8080/"
    },
    "executionInfo": {
     "elapsed": 530,
     "status": "ok",
     "timestamp": 1624201595874,
     "user": {
      "displayName": "Brayan Mesquita",
      "photoUrl": "https://lh3.googleusercontent.com/a-/AOh14GgUNgBWhHaealcWxBADroAKRwy9Vr8HNwETEGFiYA=s64",
      "userId": "10057779017214003968"
     },
     "user_tz": 240
    },
    "id": "TwkSbDLJ9Cmi",
    "outputId": "0fb0e08f-5403-4703-95f8-bdc00d7c192c"
   },
   "outputs": [
    {
     "data": {
      "text/plain": [
       "0     Afghanistan\n",
       "1     Afghanistan\n",
       "2     Afghanistan\n",
       "3     Afghanistan\n",
       "4     Afghanistan\n",
       "5     Afghanistan\n",
       "6     Afghanistan\n",
       "7     Afghanistan\n",
       "8     Afghanistan\n",
       "9     Afghanistan\n",
       "10    Afghanistan\n",
       "11    Afghanistan\n",
       "12        Albania\n",
       "13        Albania\n",
       "14        Albania\n",
       "15        Albania\n",
       "16        Albania\n",
       "17        Albania\n",
       "18        Albania\n",
       "19        Albania\n",
       "20        Albania\n",
       "21        Albania\n",
       "22        Albania\n",
       "23        Albania\n",
       "24        Algeria\n",
       "25        Algeria\n",
       "26        Algeria\n",
       "27        Algeria\n",
       "28        Algeria\n",
       "29        Algeria\n",
       "30        Algeria\n",
       "31        Algeria\n",
       "32        Algeria\n",
       "33        Algeria\n",
       "34        Algeria\n",
       "35        Algeria\n",
       "36         Angola\n",
       "37         Angola\n",
       "38         Angola\n",
       "39         Angola\n",
       "40         Angola\n",
       "41         Angola\n",
       "42         Angola\n",
       "43         Angola\n",
       "44         Angola\n",
       "45         Angola\n",
       "46         Angola\n",
       "47         Angola\n",
       "48      Argentina\n",
       "49      Argentina\n",
       "Name: country, dtype: object"
      ]
     },
     "execution_count": 27,
     "metadata": {},
     "output_type": "execute_result"
    }
   ],
   "source": [
    "paises['country'].iloc"
   ]
  },
  {
   "cell_type": "code",
   "execution_count": 8,
   "metadata": {
    "id": "GAx_Z4Y38Yjs"
   },
   "outputs": [],
   "source": [
    "us = paises[paises.country == 'United States']"
   ]
  },
  {
   "cell_type": "code",
   "execution_count": null,
   "metadata": {
    "colab": {
     "base_uri": "https://localhost:8080/",
     "height": 110
    },
    "executionInfo": {
     "elapsed": 429,
     "status": "ok",
     "timestamp": 1624201625135,
     "user": {
      "displayName": "Brayan Mesquita",
      "photoUrl": "https://lh3.googleusercontent.com/a-/AOh14GgUNgBWhHaealcWxBADroAKRwy9Vr8HNwETEGFiYA=s64",
      "userId": "10057779017214003968"
     },
     "user_tz": 240
    },
    "id": "xKKxZBXI8uwy",
    "outputId": "dd8803f7-001e-4952-d5a7-333e9ff447a9"
   },
   "outputs": [
    {
     "data": {
      "text/html": [
       "<div>\n",
       "<style scoped>\n",
       "    .dataframe tbody tr th:only-of-type {\n",
       "        vertical-align: middle;\n",
       "    }\n",
       "\n",
       "    .dataframe tbody tr th {\n",
       "        vertical-align: top;\n",
       "    }\n",
       "\n",
       "    .dataframe thead th {\n",
       "        text-align: right;\n",
       "    }\n",
       "</style>\n",
       "<table border=\"1\" class=\"dataframe\">\n",
       "  <thead>\n",
       "    <tr style=\"text-align: right;\">\n",
       "      <th></th>\n",
       "      <th>country</th>\n",
       "      <th>year</th>\n",
       "      <th>population</th>\n",
       "    </tr>\n",
       "  </thead>\n",
       "  <tbody>\n",
       "    <tr>\n",
       "      <th>1608</th>\n",
       "      <td>United States</td>\n",
       "      <td>1952</td>\n",
       "      <td>157553000</td>\n",
       "    </tr>\n",
       "    <tr>\n",
       "      <th>1609</th>\n",
       "      <td>United States</td>\n",
       "      <td>1957</td>\n",
       "      <td>171984000</td>\n",
       "    </tr>\n",
       "  </tbody>\n",
       "</table>\n",
       "</div>"
      ],
      "text/plain": [
       "            country  year  population\n",
       "1608  United States  1952   157553000\n",
       "1609  United States  1957   171984000"
      ]
     },
     "execution_count": 18,
     "metadata": {
      "tags": []
     },
     "output_type": "execute_result"
    }
   ],
   "source": [
    "us.head(2)"
   ]
  },
  {
   "cell_type": "code",
   "execution_count": 9,
   "metadata": {
    "id": "yFvP0kkX9glx"
   },
   "outputs": [],
   "source": [
    "ch = paises[paises.country == 'China']"
   ]
  },
  {
   "cell_type": "code",
   "execution_count": null,
   "metadata": {
    "colab": {
     "base_uri": "https://localhost:8080/",
     "height": 110
    },
    "executionInfo": {
     "elapsed": 418,
     "status": "ok",
     "timestamp": 1624201665258,
     "user": {
      "displayName": "Brayan Mesquita",
      "photoUrl": "https://lh3.googleusercontent.com/a-/AOh14GgUNgBWhHaealcWxBADroAKRwy9Vr8HNwETEGFiYA=s64",
      "userId": "10057779017214003968"
     },
     "user_tz": 240
    },
    "id": "UxyMwJiu9nbI",
    "outputId": "d9d6041c-17c2-40b7-fcdd-290354e9dbb9"
   },
   "outputs": [
    {
     "data": {
      "text/html": [
       "<div>\n",
       "<style scoped>\n",
       "    .dataframe tbody tr th:only-of-type {\n",
       "        vertical-align: middle;\n",
       "    }\n",
       "\n",
       "    .dataframe tbody tr th {\n",
       "        vertical-align: top;\n",
       "    }\n",
       "\n",
       "    .dataframe thead th {\n",
       "        text-align: right;\n",
       "    }\n",
       "</style>\n",
       "<table border=\"1\" class=\"dataframe\">\n",
       "  <thead>\n",
       "    <tr style=\"text-align: right;\">\n",
       "      <th></th>\n",
       "      <th>country</th>\n",
       "      <th>year</th>\n",
       "      <th>population</th>\n",
       "    </tr>\n",
       "  </thead>\n",
       "  <tbody>\n",
       "    <tr>\n",
       "      <th>288</th>\n",
       "      <td>China</td>\n",
       "      <td>1952</td>\n",
       "      <td>556263527</td>\n",
       "    </tr>\n",
       "    <tr>\n",
       "      <th>289</th>\n",
       "      <td>China</td>\n",
       "      <td>1957</td>\n",
       "      <td>637408000</td>\n",
       "    </tr>\n",
       "  </tbody>\n",
       "</table>\n",
       "</div>"
      ],
      "text/plain": [
       "    country  year  population\n",
       "288   China  1952   556263527\n",
       "289   China  1957   637408000"
      ]
     },
     "execution_count": 21,
     "metadata": {
      "tags": []
     },
     "output_type": "execute_result"
    }
   ],
   "source": [
    "ch.head(2)"
   ]
  },
  {
   "cell_type": "code",
   "execution_count": 10,
   "metadata": {
    "colab": {
     "base_uri": "https://localhost:8080/",
     "height": 279
    },
    "executionInfo": {
     "elapsed": 463,
     "status": "ok",
     "timestamp": 1624201954607,
     "user": {
      "displayName": "Brayan Mesquita",
      "photoUrl": "https://lh3.googleusercontent.com/a-/AOh14GgUNgBWhHaealcWxBADroAKRwy9Vr8HNwETEGFiYA=s64",
      "userId": "10057779017214003968"
     },
     "user_tz": 240
    },
    "id": "sL78vX-K9xo0",
    "outputId": "b2bc5409-1a54-4a80-829c-2885988d20e6"
   },
   "outputs": [
    {
     "data": {
      "image/png": "[encoded data removed]",
      "text/plain": [
       "<Figure size 640x480 with 1 Axes>"
      ]
     },
     "metadata": {},
     "output_type": "display_data"
    }
   ],
   "source": [
    "plt.plot(us.year, us.population / 10**6) #divisão em milhões para melhorar visualização\n",
    "plt.plot(ch.year, ch.population / 10**6)\n",
    "plt.legend(['EUA', 'China'])\n",
    "plt.xlabel('Ano')\n",
    "plt.ylabel('População')\n",
    "\n",
    "plt.show()"
   ]
  },
  {
   "cell_type": "code",
   "execution_count": null,
   "metadata": {
    "id": "o1MWCDeKsQxO"
   },
   "outputs": [],
   "source": []
  }
 ],
 "metadata": {
  "colab": {
   "authorship_tag": "ABX9TyNXmCWc1BdcNb+4uRozXAnj",
   "mount_file_id": "1-6TJt4F3fgtEHsel0ihpX7fC_ju852_X",
   "name": "Analise Paises - Matplotlib.ipynb",
   "provenance": []
  },
  "kernelspec": {
   "display_name": "Python 3 (ipykernel)",
   "language": "python",
   "name": "python3"
  },
  "language_info": {
   "codemirror_mode": {
    "name": "ipython",
    "version": 3
   },
   "file_extension": ".py",
   "mimetype": "text/x-python",
   "name": "python",
   "nbconvert_exporter": "python",
   "pygments_lexer": "ipython3",
   "version": "3.9.6"
  }
 },
 "nbformat": 4,
 "nbformat_minor": 1
}
